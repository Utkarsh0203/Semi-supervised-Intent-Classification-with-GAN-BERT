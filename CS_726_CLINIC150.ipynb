{
  "cells": [
    {
      "cell_type": "code",
      "execution_count": null,
      "metadata": {
        "colab": {
          "base_uri": "https://localhost:8080/"
        },
        "id": "R3nQXDUdDUrV",
        "outputId": "72ec790f-f7da-4950-953a-ddb03e0e50ba"
      },
      "outputs": [],
      "source": [
        "from google.colab import drive\n",
        "drive.mount('/content/gdrive')"
      ]
    },
    {
      "cell_type": "code",
      "execution_count": null,
      "metadata": {
        "colab": {
          "base_uri": "https://localhost:8080/"
        },
        "id": "A7LbCIT7Dwhv",
        "outputId": "94594e40-68eb-4598-85bc-f866d7be6690"
      },
      "outputs": [],
      "source": [
        "%cd \"/content/gdrive/MyDrive/AML\""
      ]
    },
    {
      "cell_type": "code",
      "execution_count": null,
      "metadata": {
        "colab": {
          "base_uri": "https://localhost:8080/"
        },
        "id": "mBRPy06EELXT",
        "outputId": "637fce90-a7d8-40f7-b6fc-0f8ecb2b7405"
      },
      "outputs": [],
      "source": [
        "!pip uninstall -y tensorflow\n",
        "!pip install tensorflow-gpu==1.14\n",
        "!pip install git+https://github.com/guillaumegenthial/tf_metrics.git\n",
        "!pip install gast==0.2.2"
      ]
    },
    {
      "cell_type": "code",
      "execution_count": 4,
      "metadata": {
        "id": "PpwzmzoIEPfJ"
      },
      "outputs": [],
      "source": [
        "import pandas as pd\n",
        "import numpy as np\n",
        "from sklearn.metrics import classification_report"
      ]
    },
    {
      "cell_type": "markdown",
      "metadata": {
        "id": "2FGZ-4IE34Eb"
      },
      "source": [
        "# **10_90**"
      ]
    },
    {
      "cell_type": "code",
      "execution_count": null,
      "metadata": {
        "colab": {
          "base_uri": "https://localhost:8080/"
        },
        "id": "AI2QBBooEZIQ",
        "outputId": "a0324560-7a7a-428d-93e5-cbbc86794c1e"
      },
      "outputs": [],
      "source": [
        "!python -u new_ganbert.py \\\n",
        "        --task_name=general \\\n",
        "        --label_rate=0.05 \\\n",
        "        --do_train=true \\\n",
        "        --do_eval=true \\\n",
        "        --do_predict=false \\\n",
        "        --pred_OOS=false \\\n",
        "        --data_dir=\"data_CLINC150/10_90\" \\\n",
        "        --vocab_file= \"/content/gdrive/MyDrive/AML/cased_L-12_H-768_A-12/vocab.txt\" \\\n",
        "        --bert_config_file=\"/content/gdrive/MyDrive/AML/cased_L-12_H-768_A-12/bert_config.json\" \\\n",
        "        --init_checkpoint=\"/content/gdrive/MyDrive/AML/cased_L-12_H-768_A-12/bert_model.ckpt\" \\\n",
        "        --max_seq_length=64 \\\n",
        "        --train_batch_size=64 \\\n",
        "        --learning_rate=2e-5 \\\n",
        "        --num_train_epochs=20 \\\n",
        "        --warmup_proportion=0.1 \\\n",
        "        --do_lower_case=false \\\n",
        "        --output_dir=ganbert_output_CLINC150/10_90"
      ]
    },
    {
      "cell_type": "markdown",
      "metadata": {
        "id": "5Q0Wmhl74K67"
      },
      "source": [
        "# **20_80**"
      ]
    },
    {
      "cell_type": "code",
      "execution_count": null,
      "metadata": {
        "colab": {
          "base_uri": "https://localhost:8080/"
        },
        "id": "v3HIKqK0MZ0m",
        "outputId": "b89b60c1-3483-4d3c-fde4-bc62aada89d9"
      },
      "outputs": [],
      "source": [
        "!python -u new_ganbert.py \\\n",
        "        --task_name=general \\\n",
        "        --label_rate=0.125 \\\n",
        "        --do_train=true \\\n",
        "        --do_eval=true \\\n",
        "        --do_predict=false \\\n",
        "        --pred_OOS=false \\\n",
        "        --data_dir=\"data_CLINC150/20_80\" \\\n",
        "        --vocab_file= \"/content/gdrive/MyDrive/AML/cased_L-12_H-768_A-12/vocab.txt\" \\\n",
        "        --bert_config_file=\"/content/gdrive/MyDrive/AML/cased_L-12_H-768_A-12/bert_config.json\" \\\n",
        "        --init_checkpoint=\"/content/gdrive/MyDrive/AML/cased_L-12_H-768_A-12/bert_model.ckpt\" \\\n",
        "        --max_seq_length=64 \\\n",
        "        --train_batch_size=64 \\\n",
        "        --learning_rate=2e-5 \\\n",
        "        --num_train_epochs=18 \\\n",
        "        --warmup_proportion=0.1 \\\n",
        "        --do_lower_case=false \\\n",
        "        --output_dir=ganbert_output_CLINC150/20_80"
      ]
    },
    {
      "cell_type": "markdown",
      "metadata": {
        "id": "cYvkKdRU4ago"
      },
      "source": [
        "# **40_60**"
      ]
    },
    {
      "cell_type": "code",
      "execution_count": null,
      "metadata": {
        "id": "k5l8CyLw4rq5"
      },
      "outputs": [],
      "source": [
        "!python -u new_ganbert.py \\\n",
        "        --task_name=general \\\n",
        "        --label_rate=0.33 \\\n",
        "        --do_train=true \\\n",
        "        --do_eval=true \\\n",
        "        --do_predict=false \\\n",
        "        --pred_OOS=false \\\n",
        "        --data_dir=\"data_CLINC150/40_60\" \\\n",
        "        --vocab_file= \"/content/gdrive/MyDrive/AML/cased_L-12_H-768_A-12/vocab.txt\" \\\n",
        "        --bert_config_file=\"/content/gdrive/MyDrive/AML/cased_L-12_H-768_A-12/bert_config.json\" \\\n",
        "        --init_checkpoint=\"/content/gdrive/MyDrive/AML/cased_L-12_H-768_A-12/bert_model.ckpt\" \\\n",
        "        --max_seq_length=64 \\\n",
        "        --train_batch_size=64 \\\n",
        "        --learning_rate=2e-5 \\\n",
        "        --num_train_epochs=16 \\\n",
        "        --warmup_proportion=0.1 \\\n",
        "        --do_lower_case=false \\\n",
        "        --output_dir=ganbert_output_CLINC150/40_60"
      ]
    },
    {
      "cell_type": "markdown",
      "metadata": {
        "id": "rTH0upQ54yfp"
      },
      "source": [
        "# 60_40"
      ]
    },
    {
      "cell_type": "code",
      "execution_count": null,
      "metadata": {
        "id": "Oew3YWt342yK"
      },
      "outputs": [],
      "source": [
        "!python -u new_ganbert.py \\\n",
        "        --task_name=general \\\n",
        "        --label_rate=0.5 \\\n",
        "        --do_train=true \\\n",
        "        --do_eval=true \\\n",
        "        --do_predict=false \\\n",
        "        --pred_OOS=false \\\n",
        "        --data_dir=\"data_CLINC150/60_40\" \\\n",
        "        --vocab_file= \"/content/gdrive/MyDrive/AML/cased_L-12_H-768_A-12/vocab.txt\" \\\n",
        "        --bert_config_file=\"/content/gdrive/MyDrive/AML/cased_L-12_H-768_A-12/bert_config.json\" \\\n",
        "        --init_checkpoint=\"/content/gdrive/MyDrive/AML/cased_L-12_H-768_A-12/bert_model.ckpt\" \\\n",
        "        --max_seq_length=64 \\\n",
        "        --train_batch_size=64 \\\n",
        "        --learning_rate=2e-5 \\\n",
        "        --num_train_epochs=14 \\\n",
        "        --warmup_proportion=0.1 \\\n",
        "        --do_lower_case=false \\\n",
        "        --output_dir=ganbert_output_CLINC150/60_40"
      ]
    },
    {
      "cell_type": "markdown",
      "metadata": {
        "id": "D6HH0m0R4_1d"
      },
      "source": [
        "# 80_20"
      ]
    },
    {
      "cell_type": "code",
      "execution_count": null,
      "metadata": {
        "id": "HmNmz5Cv5CZ8"
      },
      "outputs": [],
      "source": [
        "!python -u new_ganbert.py \\\n",
        "        --task_name=general \\\n",
        "        --label_rate=0.5 \\\n",
        "        --do_train=true \\\n",
        "        --do_eval=true \\\n",
        "        --do_predict=false \\\n",
        "        --pred_OOS=false \\\n",
        "        --data_dir=\"data_CLINC150/80_20\" \\\n",
        "        --vocab_file= \"/content/gdrive/MyDrive/AML/cased_L-12_H-768_A-12/vocab.txt\" \\\n",
        "        --bert_config_file=\"/content/gdrive/MyDrive/AML/cased_L-12_H-768_A-12/bert_config.json\" \\\n",
        "        --init_checkpoint=\"/content/gdrive/MyDrive/AML/cased_L-12_H-768_A-12/bert_model.ckpt\" \\\n",
        "        --max_seq_length=64 \\\n",
        "        --train_batch_size=64 \\\n",
        "        --learning_rate=2e-5 \\\n",
        "        --num_train_epochs=12 \\\n",
        "        --warmup_proportion=0.1 \\\n",
        "        --do_lower_case=false \\\n",
        "        --output_dir=ganbert_output_CLINC150/80_20"
      ]
    },
    {
      "cell_type": "markdown",
      "metadata": {
        "id": "mb7pYaT65JwY"
      },
      "source": [
        "# 90_10"
      ]
    },
    {
      "cell_type": "code",
      "execution_count": null,
      "metadata": {
        "id": "IIR9g7Lv5N49"
      },
      "outputs": [],
      "source": [
        "!python -u new_ganbert.py \\\n",
        "        --task_name=general \\\n",
        "        --label_rate=0.5 \\\n",
        "        --do_train=true \\\n",
        "        --do_eval=true \\\n",
        "        --do_predict=false \\\n",
        "        --pred_OOS=false \\\n",
        "        --data_dir=\"data_CLINC150/90_10\" \\\n",
        "        --vocab_file= \"/content/gdrive/MyDrive/AML/cased_L-12_H-768_A-12/vocab.txt\" \\\n",
        "        --bert_config_file=\"/content/gdrive/MyDrive/AML/cased_L-12_H-768_A-12/bert_config.json\" \\\n",
        "        --init_checkpoint=\"/content/gdrive/MyDrive/AML/cased_L-12_H-768_A-12/bert_model.ckpt\" \\\n",
        "        --max_seq_length=64 \\\n",
        "        --train_batch_size=64 \\\n",
        "        --learning_rate=2e-5 \\\n",
        "        --num_train_epochs=10 \\\n",
        "        --warmup_proportion=0.1 \\\n",
        "        --do_lower_case=false \\\n",
        "        --output_dir=ganbert_output_CLINC150/90_10"
      ]
    }
  ],
  "metadata": {
    "accelerator": "GPU",
    "colab": {
      "name": "CS 726 CLINIC150.ipynb",
      "provenance": []
    },
    "kernelspec": {
      "display_name": "Python 3",
      "name": "python3"
    },
    "language_info": {
      "name": "python"
    }
  },
  "nbformat": 4,
  "nbformat_minor": 0
}
