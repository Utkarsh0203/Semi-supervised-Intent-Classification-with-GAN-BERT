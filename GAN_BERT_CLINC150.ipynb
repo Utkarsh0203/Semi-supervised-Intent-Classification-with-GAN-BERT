{
  "nbformat": 4,
  "nbformat_minor": 0,
  "metadata": {
    "colab": {
      "name": "GAN-BERT_CLINC150.ipynb",
      "provenance": [],
      "collapsed_sections": []
    },
    "kernelspec": {
      "name": "python3",
      "display_name": "Python 3"
    },
    "accelerator": "GPU"
  },
  "cells": [
    {
      "cell_type": "code",
      "metadata": {
        "id": "XCee-gk_OyR-",
        "colab": {
          "base_uri": "https://localhost:8080/"
        },
        "outputId": "a297815b-721f-44d7-db6a-e8f4e29a0cdc"
      },
      "source": [
        "from google.colab import drive\n",
        "drive.mount('/content/gdrive')"
      ],
      "execution_count": null,
      "outputs": [
        {
          "output_type": "stream",
          "name": "stdout",
          "text": [
            "Mounted at /content/gdrive\n"
          ]
        }
      ]
    },
    {
      "cell_type": "code",
      "metadata": {
        "id": "kwmXIABrRxC0",
        "colab": {
          "base_uri": "https://localhost:8080/"
        },
        "outputId": "90690eb6-f64d-42a7-d06f-022fdf2a6b7b"
      },
      "source": [
        "%cd \"/content/gdrive/MyDrive/AML\"\n",
        "!pwd"
      ],
      "execution_count": null,
      "outputs": [
        {
          "output_type": "stream",
          "name": "stdout",
          "text": [
            "/content/gdrive/MyDrive/AML\n"
          ]
        }
      ]
    },
    {
      "cell_type": "code",
      "metadata": {
        "id": "5wYFbGrGSQBN"
      },
      "source": [
        "!pip uninstall -y tensorflow\n",
        "!pip install tensorflow-gpu==1.14\n",
        "!pip install git+https://github.com/guillaumegenthial/tf_metrics.git\n",
        "!pip install gast==0.2.2"
      ],
      "execution_count": null,
      "outputs": []
    },
    {
      "cell_type": "code",
      "metadata": {
        "id": "3GYT8xWvzwPH"
      },
      "source": [
        "import pandas as pd\n",
        "import numpy as np\n",
        "from sklearn.metrics import classification_report"
      ],
      "execution_count": null,
      "outputs": []
    },
    {
      "cell_type": "markdown",
      "metadata": {
        "id": "QwJxuTH1aT9o"
      },
      "source": [
        "### 10_90"
      ]
    },
    {
      "cell_type": "code",
      "metadata": {
        "id": "sIYvNN1kaQh2"
      },
      "source": [
        "!python -u ganbert.py \\\n",
        "        --task_name=general \\\n",
        "        --label_rate=0.05 \\\n",
        "        --do_train=true \\\n",
        "        --do_eval=true \\\n",
        "        --do_predict=false \\\n",
        "        --pred_OOS=false \\\n",
        "        --data_dir=\"data_CLINC150/10_90\" \\\n",
        "        --vocab_file= \"/content/gdrive/MyDrive/AML/cased_L-12_H-768_A-12/vocab.txt\" \\\n",
        "        --bert_config_file=\"/content/gdrive/MyDrive/AML/cased_L-12_H-768_A-12/bert_config.json\" \\\n",
        "        --init_checkpoint=\"/content/gdrive/MyDrive/AML/cased_L-12_H-768_A-12/bert_model.ckpt\" \\\n",
        "        --max_seq_length=64 \\\n",
        "        --train_batch_size=64 \\\n",
        "        --learning_rate=2e-5 \\\n",
        "        --num_train_epochs=20 \\\n",
        "        --warmup_proportion=0.1 \\\n",
        "        --do_lower_case=false \\\n",
        "        --output_dir=ganbert_output_CLINC150/10_90"
      ],
      "execution_count": null,
      "outputs": []
    },
    {
      "cell_type": "markdown",
      "metadata": {
        "id": "XjN5KjlSQaoU"
      },
      "source": [
        "### 20_80"
      ]
    },
    {
      "cell_type": "code",
      "metadata": {
        "id": "aecG8jX4QXPO"
      },
      "source": [
        "!python -u ganbert.py \\\n",
        "        --task_name=general \\\n",
        "        --label_rate=0.125 \\\n",
        "        --do_train=true \\\n",
        "        --do_eval=true \\\n",
        "        --do_predict=false \\\n",
        "        --pred_OOS=false \\\n",
        "        --data_dir=\"data_CLINC150/20_80\" \\\n",
        "        --vocab_file= \"/content/gdrive/MyDrive/AML/cased_L-12_H-768_A-12/vocab.txt\" \\\n",
        "        --bert_config_file=\"/content/gdrive/MyDrive/AML/cased_L-12_H-768_A-12/bert_config.json\" \\\n",
        "        --init_checkpoint=\"/content/gdrive/MyDrive/AML/cased_L-12_H-768_A-12/bert_model.ckpt\" \\\n",
        "        --max_seq_length=64 \\\n",
        "        --train_batch_size=64 \\\n",
        "        --learning_rate=2e-5 \\\n",
        "        --num_train_epochs=18 \\\n",
        "        --warmup_proportion=0.1 \\\n",
        "        --do_lower_case=false \\\n",
        "        --output_dir=ganbert_output_CLINC150/20_80"
      ],
      "execution_count": null,
      "outputs": []
    },
    {
      "cell_type": "markdown",
      "metadata": {
        "id": "QwWi0FoBFd6U"
      },
      "source": [
        "### 40_60"
      ]
    },
    {
      "cell_type": "code",
      "metadata": {
        "id": "TfYi1HPFFZQh"
      },
      "source": [
        "!python -u ganbert.py \\\n",
        "        --task_name=general \\\n",
        "        --label_rate=0.33 \\\n",
        "        --do_train=true \\\n",
        "        --do_eval=true \\\n",
        "        --do_predict=false \\\n",
        "        --pred_OOS=false \\\n",
        "        --data_dir=\"data_CLINC150/40_60\" \\\n",
        "        --vocab_file= \"/content/gdrive/MyDrive/AML/cased_L-12_H-768_A-12/vocab.txt\" \\\n",
        "        --bert_config_file=\"/content/gdrive/MyDrive/AML/cased_L-12_H-768_A-12/bert_config.json\" \\\n",
        "        --init_checkpoint=\"/content/gdrive/MyDrive/AML/cased_L-12_H-768_A-12/bert_model.ckpt\" \\\n",
        "        --max_seq_length=64 \\\n",
        "        --train_batch_size=64 \\\n",
        "        --learning_rate=2e-5 \\\n",
        "        --num_train_epochs=16 \\\n",
        "        --warmup_proportion=0.1 \\\n",
        "        --do_lower_case=false \\\n",
        "        --output_dir=ganbert_output_CLINC150/40_60"
      ],
      "execution_count": null,
      "outputs": []
    },
    {
      "cell_type": "markdown",
      "metadata": {
        "id": "uXBzFGYZ3RIt"
      },
      "source": [
        "### 60_40"
      ]
    },
    {
      "cell_type": "code",
      "metadata": {
        "id": "4f241ly73Svv"
      },
      "source": [
        "!python -u ganbert.py \\\n",
        "        --task_name=general \\\n",
        "        --label_rate=0.5 \\\n",
        "        --do_train=true \\\n",
        "        --do_eval=true \\\n",
        "        --do_predict=false \\\n",
        "        --pred_OOS=false \\\n",
        "        --data_dir=\"data_CLINC150/60_40\" \\\n",
        "        --vocab_file= \"/content/gdrive/MyDrive/AML/cased_L-12_H-768_A-12/vocab.txt\" \\\n",
        "        --bert_config_file=\"/content/gdrive/MyDrive/AML/cased_L-12_H-768_A-12/bert_config.json\" \\\n",
        "        --init_checkpoint=\"/content/gdrive/MyDrive/AML/cased_L-12_H-768_A-12/bert_model.ckpt\" \\\n",
        "        --max_seq_length=64 \\\n",
        "        --train_batch_size=64 \\\n",
        "        --learning_rate=2e-5 \\\n",
        "        --num_train_epochs=14 \\\n",
        "        --warmup_proportion=0.1 \\\n",
        "        --do_lower_case=false \\\n",
        "        --output_dir=ganbert_output_CLINC150/60_40"
      ],
      "execution_count": null,
      "outputs": []
    },
    {
      "cell_type": "markdown",
      "metadata": {
        "id": "E4QorBzq3A_1"
      },
      "source": [
        "### 80_20"
      ]
    },
    {
      "cell_type": "code",
      "metadata": {
        "id": "0Av9_VFa3Cay"
      },
      "source": [
        "!python -u ganbert.py \\\n",
        "        --task_name=general \\\n",
        "        --label_rate=0.5 \\\n",
        "        --do_train=true \\\n",
        "        --do_eval=true \\\n",
        "        --do_predict=false \\\n",
        "        --pred_OOS=false \\\n",
        "        --data_dir=\"data_CLINC150/80_20\" \\\n",
        "        --vocab_file= \"/content/gdrive/MyDrive/AML/cased_L-12_H-768_A-12/vocab.txt\" \\\n",
        "        --bert_config_file=\"/content/gdrive/MyDrive/AML/cased_L-12_H-768_A-12/bert_config.json\" \\\n",
        "        --init_checkpoint=\"/content/gdrive/MyDrive/AML/cased_L-12_H-768_A-12/bert_model.ckpt\" \\\n",
        "        --max_seq_length=64 \\\n",
        "        --train_batch_size=64 \\\n",
        "        --learning_rate=2e-5 \\\n",
        "        --num_train_epochs=12 \\\n",
        "        --warmup_proportion=0.1 \\\n",
        "        --do_lower_case=false \\\n",
        "        --output_dir=ganbert_output_CLINC150/80_20"
      ],
      "execution_count": null,
      "outputs": []
    },
    {
      "cell_type": "markdown",
      "metadata": {
        "id": "fgo2psTUbStg"
      },
      "source": [
        "### 90_10"
      ]
    },
    {
      "cell_type": "code",
      "metadata": {
        "id": "lT956T_e2p1V"
      },
      "source": [
        "!python -u ganbert.py \\\n",
        "        --task_name=general \\\n",
        "        --label_rate=0.5 \\\n",
        "        --do_train=true \\\n",
        "        --do_eval=true \\\n",
        "        --do_predict=false \\\n",
        "        --pred_OOS=false \\\n",
        "        --data_dir=\"data_CLINC150/90_10\" \\\n",
        "        --vocab_file= \"/content/gdrive/MyDrive/AML/cased_L-12_H-768_A-12/vocab.txt\" \\\n",
        "        --bert_config_file=\"/content/gdrive/MyDrive/AML/cased_L-12_H-768_A-12/bert_config.json\" \\\n",
        "        --init_checkpoint=\"/content/gdrive/MyDrive/AML/cased_L-12_H-768_A-12/bert_model.ckpt\" \\\n",
        "        --max_seq_length=64 \\\n",
        "        --train_batch_size=64 \\\n",
        "        --learning_rate=2e-5 \\\n",
        "        --num_train_epochs=10 \\\n",
        "        --warmup_proportion=0.1 \\\n",
        "        --do_lower_case=false \\\n",
        "        --output_dir=ganbert_output_CLINC150/90_10"
      ],
      "execution_count": null,
      "outputs": []
    }
  ]
}